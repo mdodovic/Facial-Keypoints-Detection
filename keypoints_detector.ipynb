{
 "cells": [
  {
   "attachments": {},
   "cell_type": "markdown",
   "metadata": {},
   "source": [
    "### Facial keypoints detection"
   ]
  },
  {
   "attachments": {},
   "cell_type": "markdown",
   "metadata": {},
   "source": [
    "#### Imports"
   ]
  },
  {
   "cell_type": "code",
   "execution_count": 1,
   "metadata": {},
   "outputs": [],
   "source": [
    "import os\n",
    "import numpy as np\n",
    "import pandas as pd\n",
    "import matplotlib.pyplot as plt\n",
    "import zipfile\n",
    "\n",
    "import tensorflow as tf\n",
    "from keras.models import Sequential\n",
    "from keras.layers import Dense, Conv2D, BatchNormalization, MaxPool2D, Flatten, Dropout\n",
    "from keras.metrics import RootMeanSquaredError\n",
    "from keras.utils import plot_model\n",
    "\n",
    "from sklearn.model_selection import train_test_split"
   ]
  },
  {
   "attachments": {},
   "cell_type": "markdown",
   "metadata": {},
   "source": [
    "#### Constants"
   ]
  },
  {
   "cell_type": "code",
   "execution_count": 2,
   "metadata": {},
   "outputs": [],
   "source": [
    "img_height, img_width = 96, 96"
   ]
  },
  {
   "attachments": {},
   "cell_type": "markdown",
   "metadata": {},
   "source": [
    "#### Dataset loading"
   ]
  },
  {
   "attachments": {},
   "cell_type": "markdown",
   "metadata": {},
   "source": [
    "The given dataset has already been separated to the train and the test part (2 .csv files zipped for the sake of good memory utilization). \n",
    "`train` and `test` archives contains .csv file with coordinates of each keypoint as well as the image."
   ]
  },
  {
   "cell_type": "code",
   "execution_count": 3,
   "metadata": {},
   "outputs": [],
   "source": [
    "train = pd.read_csv('./dataset/training.zip', compression='zip')\n",
    "test = pd.read_csv('./dataset/test.zip', compression='zip')\n",
    "IdLookupTable = pd.read_csv('./dataset/IdLookupTable.csv',header=0, sep=',', quotechar='\"')"
   ]
  },
  {
   "attachments": {},
   "cell_type": "markdown",
   "metadata": {},
   "source": [
    "Each keypoint is specified by an (x, y) real-valued pair in the space of pixel indices. There are 15 keypoints, which represent the following elements of the face:\n",
    "\n",
    "*left_eye_center*, *right_eye_center*, *left_eye_inner_corner*, *left_eye_outer_corner*, *right_eye_inner_corner*, *right_eye_outer_corner*, *left_eyebrow_inner_end*, *left_eyebrow_outer_end*, *right_eyebrow_inner_end*, *right_eyebrow_outer_end*, *nose_tip*, *mouth_left_corner*, *mouth_right_corner*, *mouth_center_top_lip*, *mouth_center_bottom_lip*\n",
    "\n",
    "Left and right here refers to the point of view of the subject.\n",
    "\n",
    "The input image is given in the last field of the data files, and consists of a list of pixels (ordered by row), as integers in (0,255). The images are 96x96 pixels."
   ]
  },
  {
   "attachments": {},
   "cell_type": "markdown",
   "metadata": {},
   "source": [
    "##### Train dataset preview\n",
    "Each row contains the (x,y) coordinates for 15 keypoints, and image data as row-ordered list of pixels."
   ]
  },
  {
   "cell_type": "code",
   "execution_count": 4,
   "metadata": {},
   "outputs": [
    {
     "name": "stdout",
     "output_type": "stream",
     "text": [
      "The number of samples into the train data is 7049.\n"
     ]
    },
    {
     "data": {
      "text/html": [
       "<div>\n",
       "<style scoped>\n",
       "    .dataframe tbody tr th:only-of-type {\n",
       "        vertical-align: middle;\n",
       "    }\n",
       "\n",
       "    .dataframe tbody tr th {\n",
       "        vertical-align: top;\n",
       "    }\n",
       "\n",
       "    .dataframe thead th {\n",
       "        text-align: right;\n",
       "    }\n",
       "</style>\n",
       "<table border=\"1\" class=\"dataframe\">\n",
       "  <thead>\n",
       "    <tr style=\"text-align: right;\">\n",
       "      <th></th>\n",
       "      <th>0</th>\n",
       "      <th>1</th>\n",
       "      <th>2</th>\n",
       "      <th>3</th>\n",
       "      <th>4</th>\n",
       "    </tr>\n",
       "  </thead>\n",
       "  <tbody>\n",
       "    <tr>\n",
       "      <th>left_eye_center_x</th>\n",
       "      <td>66.033564</td>\n",
       "      <td>64.332936</td>\n",
       "      <td>65.057053</td>\n",
       "      <td>65.225739</td>\n",
       "      <td>66.725301</td>\n",
       "    </tr>\n",
       "    <tr>\n",
       "      <th>left_eye_center_y</th>\n",
       "      <td>39.002274</td>\n",
       "      <td>34.970077</td>\n",
       "      <td>34.909642</td>\n",
       "      <td>37.261774</td>\n",
       "      <td>39.621261</td>\n",
       "    </tr>\n",
       "    <tr>\n",
       "      <th>right_eye_center_x</th>\n",
       "      <td>30.227008</td>\n",
       "      <td>29.949277</td>\n",
       "      <td>30.903789</td>\n",
       "      <td>32.023096</td>\n",
       "      <td>32.24481</td>\n",
       "    </tr>\n",
       "    <tr>\n",
       "      <th>right_eye_center_y</th>\n",
       "      <td>36.421678</td>\n",
       "      <td>33.448715</td>\n",
       "      <td>34.909642</td>\n",
       "      <td>37.261774</td>\n",
       "      <td>38.042032</td>\n",
       "    </tr>\n",
       "    <tr>\n",
       "      <th>left_eye_inner_corner_x</th>\n",
       "      <td>59.582075</td>\n",
       "      <td>58.85617</td>\n",
       "      <td>59.412</td>\n",
       "      <td>60.003339</td>\n",
       "      <td>58.56589</td>\n",
       "    </tr>\n",
       "    <tr>\n",
       "      <th>left_eye_inner_corner_y</th>\n",
       "      <td>39.647423</td>\n",
       "      <td>35.274349</td>\n",
       "      <td>36.320968</td>\n",
       "      <td>39.127179</td>\n",
       "      <td>39.621261</td>\n",
       "    </tr>\n",
       "    <tr>\n",
       "      <th>left_eye_outer_corner_x</th>\n",
       "      <td>73.130346</td>\n",
       "      <td>70.722723</td>\n",
       "      <td>70.984421</td>\n",
       "      <td>72.314713</td>\n",
       "      <td>72.515926</td>\n",
       "    </tr>\n",
       "    <tr>\n",
       "      <th>left_eye_outer_corner_y</th>\n",
       "      <td>39.969997</td>\n",
       "      <td>36.187166</td>\n",
       "      <td>36.320968</td>\n",
       "      <td>38.380967</td>\n",
       "      <td>39.884466</td>\n",
       "    </tr>\n",
       "    <tr>\n",
       "      <th>right_eye_inner_corner_x</th>\n",
       "      <td>36.356571</td>\n",
       "      <td>36.034723</td>\n",
       "      <td>37.678105</td>\n",
       "      <td>37.618643</td>\n",
       "      <td>36.98238</td>\n",
       "    </tr>\n",
       "    <tr>\n",
       "      <th>right_eye_inner_corner_y</th>\n",
       "      <td>37.389402</td>\n",
       "      <td>34.361532</td>\n",
       "      <td>36.320968</td>\n",
       "      <td>38.754115</td>\n",
       "      <td>39.094852</td>\n",
       "    </tr>\n",
       "    <tr>\n",
       "      <th>right_eye_outer_corner_x</th>\n",
       "      <td>23.452872</td>\n",
       "      <td>24.472511</td>\n",
       "      <td>24.976421</td>\n",
       "      <td>25.30727</td>\n",
       "      <td>22.50611</td>\n",
       "    </tr>\n",
       "    <tr>\n",
       "      <th>right_eye_outer_corner_y</th>\n",
       "      <td>37.389402</td>\n",
       "      <td>33.144443</td>\n",
       "      <td>36.603221</td>\n",
       "      <td>38.007903</td>\n",
       "      <td>38.305237</td>\n",
       "    </tr>\n",
       "    <tr>\n",
       "      <th>left_eyebrow_inner_end_x</th>\n",
       "      <td>56.953263</td>\n",
       "      <td>53.987404</td>\n",
       "      <td>55.742526</td>\n",
       "      <td>56.433809</td>\n",
       "      <td>57.249571</td>\n",
       "    </tr>\n",
       "    <tr>\n",
       "      <th>left_eyebrow_inner_end_y</th>\n",
       "      <td>29.033648</td>\n",
       "      <td>28.275949</td>\n",
       "      <td>27.570947</td>\n",
       "      <td>30.929864</td>\n",
       "      <td>30.672177</td>\n",
       "    </tr>\n",
       "    <tr>\n",
       "      <th>left_eyebrow_outer_end_x</th>\n",
       "      <td>80.227128</td>\n",
       "      <td>78.634213</td>\n",
       "      <td>78.887368</td>\n",
       "      <td>77.910261</td>\n",
       "      <td>77.762945</td>\n",
       "    </tr>\n",
       "    <tr>\n",
       "      <th>left_eyebrow_outer_end_y</th>\n",
       "      <td>32.228138</td>\n",
       "      <td>30.405923</td>\n",
       "      <td>32.651621</td>\n",
       "      <td>31.665725</td>\n",
       "      <td>31.737247</td>\n",
       "    </tr>\n",
       "    <tr>\n",
       "      <th>right_eyebrow_inner_end_x</th>\n",
       "      <td>40.227609</td>\n",
       "      <td>42.728851</td>\n",
       "      <td>42.193895</td>\n",
       "      <td>41.671513</td>\n",
       "      <td>38.035436</td>\n",
       "    </tr>\n",
       "    <tr>\n",
       "      <th>right_eyebrow_inner_end_y</th>\n",
       "      <td>29.002322</td>\n",
       "      <td>26.146043</td>\n",
       "      <td>28.135453</td>\n",
       "      <td>31.04999</td>\n",
       "      <td>30.935382</td>\n",
       "    </tr>\n",
       "    <tr>\n",
       "      <th>right_eyebrow_outer_end_x</th>\n",
       "      <td>16.356379</td>\n",
       "      <td>16.865362</td>\n",
       "      <td>16.791158</td>\n",
       "      <td>20.458017</td>\n",
       "      <td>15.92587</td>\n",
       "    </tr>\n",
       "    <tr>\n",
       "      <th>right_eyebrow_outer_end_y</th>\n",
       "      <td>29.647471</td>\n",
       "      <td>27.05886</td>\n",
       "      <td>32.087116</td>\n",
       "      <td>29.909343</td>\n",
       "      <td>30.672177</td>\n",
       "    </tr>\n",
       "    <tr>\n",
       "      <th>nose_tip_x</th>\n",
       "      <td>44.420571</td>\n",
       "      <td>48.206298</td>\n",
       "      <td>47.557263</td>\n",
       "      <td>51.885078</td>\n",
       "      <td>43.299534</td>\n",
       "    </tr>\n",
       "    <tr>\n",
       "      <th>nose_tip_y</th>\n",
       "      <td>57.066803</td>\n",
       "      <td>55.660936</td>\n",
       "      <td>53.538947</td>\n",
       "      <td>54.166539</td>\n",
       "      <td>64.889521</td>\n",
       "    </tr>\n",
       "    <tr>\n",
       "      <th>mouth_left_corner_x</th>\n",
       "      <td>61.195308</td>\n",
       "      <td>56.421447</td>\n",
       "      <td>60.822947</td>\n",
       "      <td>65.598887</td>\n",
       "      <td>60.671411</td>\n",
       "    </tr>\n",
       "    <tr>\n",
       "      <th>mouth_left_corner_y</th>\n",
       "      <td>79.970165</td>\n",
       "      <td>76.352</td>\n",
       "      <td>73.014316</td>\n",
       "      <td>72.703722</td>\n",
       "      <td>77.523239</td>\n",
       "    </tr>\n",
       "    <tr>\n",
       "      <th>mouth_right_corner_x</th>\n",
       "      <td>28.614496</td>\n",
       "      <td>35.122383</td>\n",
       "      <td>33.726316</td>\n",
       "      <td>37.245496</td>\n",
       "      <td>31.191755</td>\n",
       "    </tr>\n",
       "    <tr>\n",
       "      <th>mouth_right_corner_y</th>\n",
       "      <td>77.388992</td>\n",
       "      <td>76.04766</td>\n",
       "      <td>72.732</td>\n",
       "      <td>74.195478</td>\n",
       "      <td>76.997301</td>\n",
       "    </tr>\n",
       "    <tr>\n",
       "      <th>mouth_center_top_lip_x</th>\n",
       "      <td>43.312602</td>\n",
       "      <td>46.684596</td>\n",
       "      <td>47.274947</td>\n",
       "      <td>50.303165</td>\n",
       "      <td>44.962748</td>\n",
       "    </tr>\n",
       "    <tr>\n",
       "      <th>mouth_center_top_lip_y</th>\n",
       "      <td>72.935459</td>\n",
       "      <td>70.266553</td>\n",
       "      <td>70.191789</td>\n",
       "      <td>70.091687</td>\n",
       "      <td>73.707387</td>\n",
       "    </tr>\n",
       "    <tr>\n",
       "      <th>mouth_center_bottom_lip_x</th>\n",
       "      <td>43.130707</td>\n",
       "      <td>45.467915</td>\n",
       "      <td>47.274947</td>\n",
       "      <td>51.561183</td>\n",
       "      <td>44.227141</td>\n",
       "    </tr>\n",
       "    <tr>\n",
       "      <th>mouth_center_bottom_lip_y</th>\n",
       "      <td>84.485774</td>\n",
       "      <td>85.48017</td>\n",
       "      <td>78.659368</td>\n",
       "      <td>78.268383</td>\n",
       "      <td>86.871166</td>\n",
       "    </tr>\n",
       "    <tr>\n",
       "      <th>Image</th>\n",
       "      <td>238 236 237 238 240 240 239 241 241 243 240 23...</td>\n",
       "      <td>219 215 204 196 204 211 212 200 180 168 178 19...</td>\n",
       "      <td>144 142 159 180 188 188 184 180 167 132 84 59 ...</td>\n",
       "      <td>193 192 193 194 194 194 193 192 168 111 50 12 ...</td>\n",
       "      <td>147 148 160 196 215 214 216 217 219 220 206 18...</td>\n",
       "    </tr>\n",
       "  </tbody>\n",
       "</table>\n",
       "</div>"
      ],
      "text/plain": [
       "                                                                           0  \\\n",
       "left_eye_center_x                                                  66.033564   \n",
       "left_eye_center_y                                                  39.002274   \n",
       "right_eye_center_x                                                 30.227008   \n",
       "right_eye_center_y                                                 36.421678   \n",
       "left_eye_inner_corner_x                                            59.582075   \n",
       "left_eye_inner_corner_y                                            39.647423   \n",
       "left_eye_outer_corner_x                                            73.130346   \n",
       "left_eye_outer_corner_y                                            39.969997   \n",
       "right_eye_inner_corner_x                                           36.356571   \n",
       "right_eye_inner_corner_y                                           37.389402   \n",
       "right_eye_outer_corner_x                                           23.452872   \n",
       "right_eye_outer_corner_y                                           37.389402   \n",
       "left_eyebrow_inner_end_x                                           56.953263   \n",
       "left_eyebrow_inner_end_y                                           29.033648   \n",
       "left_eyebrow_outer_end_x                                           80.227128   \n",
       "left_eyebrow_outer_end_y                                           32.228138   \n",
       "right_eyebrow_inner_end_x                                          40.227609   \n",
       "right_eyebrow_inner_end_y                                          29.002322   \n",
       "right_eyebrow_outer_end_x                                          16.356379   \n",
       "right_eyebrow_outer_end_y                                          29.647471   \n",
       "nose_tip_x                                                         44.420571   \n",
       "nose_tip_y                                                         57.066803   \n",
       "mouth_left_corner_x                                                61.195308   \n",
       "mouth_left_corner_y                                                79.970165   \n",
       "mouth_right_corner_x                                               28.614496   \n",
       "mouth_right_corner_y                                               77.388992   \n",
       "mouth_center_top_lip_x                                             43.312602   \n",
       "mouth_center_top_lip_y                                             72.935459   \n",
       "mouth_center_bottom_lip_x                                          43.130707   \n",
       "mouth_center_bottom_lip_y                                          84.485774   \n",
       "Image                      238 236 237 238 240 240 239 241 241 243 240 23...   \n",
       "\n",
       "                                                                           1  \\\n",
       "left_eye_center_x                                                  64.332936   \n",
       "left_eye_center_y                                                  34.970077   \n",
       "right_eye_center_x                                                 29.949277   \n",
       "right_eye_center_y                                                 33.448715   \n",
       "left_eye_inner_corner_x                                             58.85617   \n",
       "left_eye_inner_corner_y                                            35.274349   \n",
       "left_eye_outer_corner_x                                            70.722723   \n",
       "left_eye_outer_corner_y                                            36.187166   \n",
       "right_eye_inner_corner_x                                           36.034723   \n",
       "right_eye_inner_corner_y                                           34.361532   \n",
       "right_eye_outer_corner_x                                           24.472511   \n",
       "right_eye_outer_corner_y                                           33.144443   \n",
       "left_eyebrow_inner_end_x                                           53.987404   \n",
       "left_eyebrow_inner_end_y                                           28.275949   \n",
       "left_eyebrow_outer_end_x                                           78.634213   \n",
       "left_eyebrow_outer_end_y                                           30.405923   \n",
       "right_eyebrow_inner_end_x                                          42.728851   \n",
       "right_eyebrow_inner_end_y                                          26.146043   \n",
       "right_eyebrow_outer_end_x                                          16.865362   \n",
       "right_eyebrow_outer_end_y                                           27.05886   \n",
       "nose_tip_x                                                         48.206298   \n",
       "nose_tip_y                                                         55.660936   \n",
       "mouth_left_corner_x                                                56.421447   \n",
       "mouth_left_corner_y                                                   76.352   \n",
       "mouth_right_corner_x                                               35.122383   \n",
       "mouth_right_corner_y                                                76.04766   \n",
       "mouth_center_top_lip_x                                             46.684596   \n",
       "mouth_center_top_lip_y                                             70.266553   \n",
       "mouth_center_bottom_lip_x                                          45.467915   \n",
       "mouth_center_bottom_lip_y                                           85.48017   \n",
       "Image                      219 215 204 196 204 211 212 200 180 168 178 19...   \n",
       "\n",
       "                                                                           2  \\\n",
       "left_eye_center_x                                                  65.057053   \n",
       "left_eye_center_y                                                  34.909642   \n",
       "right_eye_center_x                                                 30.903789   \n",
       "right_eye_center_y                                                 34.909642   \n",
       "left_eye_inner_corner_x                                               59.412   \n",
       "left_eye_inner_corner_y                                            36.320968   \n",
       "left_eye_outer_corner_x                                            70.984421   \n",
       "left_eye_outer_corner_y                                            36.320968   \n",
       "right_eye_inner_corner_x                                           37.678105   \n",
       "right_eye_inner_corner_y                                           36.320968   \n",
       "right_eye_outer_corner_x                                           24.976421   \n",
       "right_eye_outer_corner_y                                           36.603221   \n",
       "left_eyebrow_inner_end_x                                           55.742526   \n",
       "left_eyebrow_inner_end_y                                           27.570947   \n",
       "left_eyebrow_outer_end_x                                           78.887368   \n",
       "left_eyebrow_outer_end_y                                           32.651621   \n",
       "right_eyebrow_inner_end_x                                          42.193895   \n",
       "right_eyebrow_inner_end_y                                          28.135453   \n",
       "right_eyebrow_outer_end_x                                          16.791158   \n",
       "right_eyebrow_outer_end_y                                          32.087116   \n",
       "nose_tip_x                                                         47.557263   \n",
       "nose_tip_y                                                         53.538947   \n",
       "mouth_left_corner_x                                                60.822947   \n",
       "mouth_left_corner_y                                                73.014316   \n",
       "mouth_right_corner_x                                               33.726316   \n",
       "mouth_right_corner_y                                                  72.732   \n",
       "mouth_center_top_lip_x                                             47.274947   \n",
       "mouth_center_top_lip_y                                             70.191789   \n",
       "mouth_center_bottom_lip_x                                          47.274947   \n",
       "mouth_center_bottom_lip_y                                          78.659368   \n",
       "Image                      144 142 159 180 188 188 184 180 167 132 84 59 ...   \n",
       "\n",
       "                                                                           3  \\\n",
       "left_eye_center_x                                                  65.225739   \n",
       "left_eye_center_y                                                  37.261774   \n",
       "right_eye_center_x                                                 32.023096   \n",
       "right_eye_center_y                                                 37.261774   \n",
       "left_eye_inner_corner_x                                            60.003339   \n",
       "left_eye_inner_corner_y                                            39.127179   \n",
       "left_eye_outer_corner_x                                            72.314713   \n",
       "left_eye_outer_corner_y                                            38.380967   \n",
       "right_eye_inner_corner_x                                           37.618643   \n",
       "right_eye_inner_corner_y                                           38.754115   \n",
       "right_eye_outer_corner_x                                            25.30727   \n",
       "right_eye_outer_corner_y                                           38.007903   \n",
       "left_eyebrow_inner_end_x                                           56.433809   \n",
       "left_eyebrow_inner_end_y                                           30.929864   \n",
       "left_eyebrow_outer_end_x                                           77.910261   \n",
       "left_eyebrow_outer_end_y                                           31.665725   \n",
       "right_eyebrow_inner_end_x                                          41.671513   \n",
       "right_eyebrow_inner_end_y                                           31.04999   \n",
       "right_eyebrow_outer_end_x                                          20.458017   \n",
       "right_eyebrow_outer_end_y                                          29.909343   \n",
       "nose_tip_x                                                         51.885078   \n",
       "nose_tip_y                                                         54.166539   \n",
       "mouth_left_corner_x                                                65.598887   \n",
       "mouth_left_corner_y                                                72.703722   \n",
       "mouth_right_corner_x                                               37.245496   \n",
       "mouth_right_corner_y                                               74.195478   \n",
       "mouth_center_top_lip_x                                             50.303165   \n",
       "mouth_center_top_lip_y                                             70.091687   \n",
       "mouth_center_bottom_lip_x                                          51.561183   \n",
       "mouth_center_bottom_lip_y                                          78.268383   \n",
       "Image                      193 192 193 194 194 194 193 192 168 111 50 12 ...   \n",
       "\n",
       "                                                                           4  \n",
       "left_eye_center_x                                                  66.725301  \n",
       "left_eye_center_y                                                  39.621261  \n",
       "right_eye_center_x                                                  32.24481  \n",
       "right_eye_center_y                                                 38.042032  \n",
       "left_eye_inner_corner_x                                             58.56589  \n",
       "left_eye_inner_corner_y                                            39.621261  \n",
       "left_eye_outer_corner_x                                            72.515926  \n",
       "left_eye_outer_corner_y                                            39.884466  \n",
       "right_eye_inner_corner_x                                            36.98238  \n",
       "right_eye_inner_corner_y                                           39.094852  \n",
       "right_eye_outer_corner_x                                            22.50611  \n",
       "right_eye_outer_corner_y                                           38.305237  \n",
       "left_eyebrow_inner_end_x                                           57.249571  \n",
       "left_eyebrow_inner_end_y                                           30.672177  \n",
       "left_eyebrow_outer_end_x                                           77.762945  \n",
       "left_eyebrow_outer_end_y                                           31.737247  \n",
       "right_eyebrow_inner_end_x                                          38.035436  \n",
       "right_eyebrow_inner_end_y                                          30.935382  \n",
       "right_eyebrow_outer_end_x                                           15.92587  \n",
       "right_eyebrow_outer_end_y                                          30.672177  \n",
       "nose_tip_x                                                         43.299534  \n",
       "nose_tip_y                                                         64.889521  \n",
       "mouth_left_corner_x                                                60.671411  \n",
       "mouth_left_corner_y                                                77.523239  \n",
       "mouth_right_corner_x                                               31.191755  \n",
       "mouth_right_corner_y                                               76.997301  \n",
       "mouth_center_top_lip_x                                             44.962748  \n",
       "mouth_center_top_lip_y                                             73.707387  \n",
       "mouth_center_bottom_lip_x                                          44.227141  \n",
       "mouth_center_bottom_lip_y                                          86.871166  \n",
       "Image                      147 148 160 196 215 214 216 217 219 220 206 18...  "
      ]
     },
     "execution_count": 4,
     "metadata": {},
     "output_type": "execute_result"
    }
   ],
   "source": [
    "print('The number of samples into the train data is {}.'.format(train.shape[0]))\n",
    "\n",
    "train.head().T"
   ]
  },
  {
   "attachments": {},
   "cell_type": "markdown",
   "metadata": {},
   "source": [
    "##### Test dataset preview\n",
    "Each row contains ImageId and image data as row-ordered list of pixels"
   ]
  },
  {
   "cell_type": "code",
   "execution_count": 5,
   "metadata": {},
   "outputs": [
    {
     "name": "stdout",
     "output_type": "stream",
     "text": [
      "The number of samples into the test data is 1783.\n"
     ]
    },
    {
     "data": {
      "text/html": [
       "<div>\n",
       "<style scoped>\n",
       "    .dataframe tbody tr th:only-of-type {\n",
       "        vertical-align: middle;\n",
       "    }\n",
       "\n",
       "    .dataframe tbody tr th {\n",
       "        vertical-align: top;\n",
       "    }\n",
       "\n",
       "    .dataframe thead th {\n",
       "        text-align: right;\n",
       "    }\n",
       "</style>\n",
       "<table border=\"1\" class=\"dataframe\">\n",
       "  <thead>\n",
       "    <tr style=\"text-align: right;\">\n",
       "      <th></th>\n",
       "      <th>ImageId</th>\n",
       "      <th>Image</th>\n",
       "    </tr>\n",
       "  </thead>\n",
       "  <tbody>\n",
       "    <tr>\n",
       "      <th>0</th>\n",
       "      <td>1</td>\n",
       "      <td>182 183 182 182 180 180 176 169 156 137 124 10...</td>\n",
       "    </tr>\n",
       "    <tr>\n",
       "      <th>1</th>\n",
       "      <td>2</td>\n",
       "      <td>76 87 81 72 65 59 64 76 69 42 31 38 49 58 58 4...</td>\n",
       "    </tr>\n",
       "    <tr>\n",
       "      <th>2</th>\n",
       "      <td>3</td>\n",
       "      <td>177 176 174 170 169 169 168 166 166 166 161 14...</td>\n",
       "    </tr>\n",
       "    <tr>\n",
       "      <th>3</th>\n",
       "      <td>4</td>\n",
       "      <td>176 174 174 175 174 174 176 176 175 171 165 15...</td>\n",
       "    </tr>\n",
       "    <tr>\n",
       "      <th>4</th>\n",
       "      <td>5</td>\n",
       "      <td>50 47 44 101 144 149 120 58 48 42 35 35 37 39 ...</td>\n",
       "    </tr>\n",
       "  </tbody>\n",
       "</table>\n",
       "</div>"
      ],
      "text/plain": [
       "   ImageId                                              Image\n",
       "0        1  182 183 182 182 180 180 176 169 156 137 124 10...\n",
       "1        2  76 87 81 72 65 59 64 76 69 42 31 38 49 58 58 4...\n",
       "2        3  177 176 174 170 169 169 168 166 166 166 161 14...\n",
       "3        4  176 174 174 175 174 174 176 176 175 171 165 15...\n",
       "4        5  50 47 44 101 144 149 120 58 48 42 35 35 37 39 ..."
      ]
     },
     "execution_count": 5,
     "metadata": {},
     "output_type": "execute_result"
    }
   ],
   "source": [
    "print('The number of samples into the test data is {}.'.format(test.shape[0]))\n",
    "\n",
    "test.head()"
   ]
  },
  {
   "attachments": {},
   "cell_type": "markdown",
   "metadata": {},
   "source": [
    "#### Data preprocessing - missing values"
   ]
  },
  {
   "cell_type": "code",
   "execution_count": 6,
   "metadata": {},
   "outputs": [
    {
     "data": {
      "text/plain": [
       "left_eye_center_x              10\n",
       "left_eye_center_y              10\n",
       "right_eye_center_x             13\n",
       "right_eye_center_y             13\n",
       "left_eye_inner_corner_x      4778\n",
       "left_eye_inner_corner_y      4778\n",
       "left_eye_outer_corner_x      4782\n",
       "left_eye_outer_corner_y      4782\n",
       "right_eye_inner_corner_x     4781\n",
       "right_eye_inner_corner_y     4781\n",
       "right_eye_outer_corner_x     4781\n",
       "right_eye_outer_corner_y     4781\n",
       "left_eyebrow_inner_end_x     4779\n",
       "left_eyebrow_inner_end_y     4779\n",
       "left_eyebrow_outer_end_x     4824\n",
       "left_eyebrow_outer_end_y     4824\n",
       "right_eyebrow_inner_end_x    4779\n",
       "right_eyebrow_inner_end_y    4779\n",
       "right_eyebrow_outer_end_x    4813\n",
       "right_eyebrow_outer_end_y    4813\n",
       "nose_tip_x                      0\n",
       "nose_tip_y                      0\n",
       "mouth_left_corner_x          4780\n",
       "mouth_left_corner_y          4780\n",
       "mouth_right_corner_x         4779\n",
       "mouth_right_corner_y         4779\n",
       "mouth_center_top_lip_x       4774\n",
       "mouth_center_top_lip_y       4774\n",
       "mouth_center_bottom_lip_x      33\n",
       "mouth_center_bottom_lip_y      33\n",
       "Image                           0\n",
       "dtype: int64"
      ]
     },
     "execution_count": 6,
     "metadata": {},
     "output_type": "execute_result"
    }
   ],
   "source": [
    "train.isnull().sum()"
   ]
  },
  {
   "cell_type": "code",
   "execution_count": 7,
   "metadata": {},
   "outputs": [
    {
     "name": "stdout",
     "output_type": "stream",
     "text": [
      "Maximal number of missing columns is 4824, which is 68.44%\n"
     ]
    }
   ],
   "source": [
    "print('Maximal number of missing columns is %d, which is %.2f%%' %(max(train.isnull().sum()), 100. * max(train.isnull().sum()) / train.shape[0]))"
   ]
  },
  {
   "attachments": {},
   "cell_type": "markdown",
   "metadata": {},
   "source": [
    "##### Dropping missing values\n",
    "First technique can be to drop all missing values. This will drop almost ~70% of the training dataset."
   ]
  },
  {
   "cell_type": "code",
   "execution_count": 8,
   "metadata": {},
   "outputs": [],
   "source": [
    "def drop_missing_values():  \n",
    "    train_dropped_missing_values = train.dropna()\n",
    "    return train_dropped_missing_values"
   ]
  },
  {
   "attachments": {},
   "cell_type": "markdown",
   "metadata": {},
   "source": [
    "##### Fill missing values\n",
    "Another technique can be to fill all the missing values with something. Common coices can be to use average od median as a missing values."
   ]
  },
  {
   "cell_type": "code",
   "execution_count": 9,
   "metadata": {},
   "outputs": [],
   "source": [
    "def fill_missing_values():  \n",
    "    train_filled_values = train.fillna(method = 'ffill', inplace=False)\n",
    "    return train_filled_values"
   ]
  },
  {
   "cell_type": "code",
   "execution_count": 10,
   "metadata": {},
   "outputs": [],
   "source": [
    "def solve_missing_values(method: str):\n",
    "    if method == 'drop':\n",
    "        return drop_missing_values()\n",
    "    elif method == 'ffill':\n",
    "        return fill_missing_values()"
   ]
  },
  {
   "attachments": {},
   "cell_type": "markdown",
   "metadata": {},
   "source": [
    "##### Solve missing values"
   ]
  },
  {
   "cell_type": "code",
   "execution_count": 11,
   "metadata": {},
   "outputs": [],
   "source": [
    "train_no_missing_values = solve_missing_values('ffill')"
   ]
  },
  {
   "cell_type": "code",
   "execution_count": 12,
   "metadata": {},
   "outputs": [
    {
     "name": "stdout",
     "output_type": "stream",
     "text": [
      "Shape of train data without any missing values are (7049, 31).\n"
     ]
    },
    {
     "data": {
      "text/plain": [
       "False"
      ]
     },
     "execution_count": 12,
     "metadata": {},
     "output_type": "execute_result"
    }
   ],
   "source": [
    "number_of_rows_train, number_of_columns_train = train_no_missing_values.shape\n",
    "print('Shape of train data without any missing values are ({}, {}).'.format(number_of_rows_train , number_of_columns_train))\n",
    "train_no_missing_values.isnull().sum().any()"
   ]
  },
  {
   "attachments": {},
   "cell_type": "markdown",
   "metadata": {},
   "source": [
    "There is no missing values any more!"
   ]
  },
  {
   "attachments": {},
   "cell_type": "markdown",
   "metadata": {},
   "source": [
    "#### Images and keypoints preview"
   ]
  },
  {
   "attachments": {},
   "cell_type": "markdown",
   "metadata": {},
   "source": [
    "The last column (accessed using the name `Image`) of the train dataset represents an image. If there are any blank spaces, represents by null values, in the pixels they will be replaced with 0. The pixel values will be normalized in the range [0, 1]."
   ]
  },
  {
   "cell_type": "code",
   "execution_count": 13,
   "metadata": {},
   "outputs": [
    {
     "data": {
      "text/plain": [
       "((7049, 96, 96, 1), (7049, 30))"
      ]
     },
     "execution_count": 13,
     "metadata": {},
     "output_type": "execute_result"
    }
   ],
   "source": [
    "images = []\n",
    "labels = []\n",
    "\n",
    "for index, sample in train_no_missing_values.iterrows():\n",
    "\n",
    "    face_pixel = np.array(sample['Image'].split(' '), dtype='float')\n",
    "    face_pixel = np.reshape(face_pixel, (img_height, img_width, 1))\n",
    "    images.append(face_pixel)\n",
    "\n",
    "    labels.append(sample[0:30])\n",
    "\n",
    "images = np.array(images)\n",
    "labels = np.array(labels, dtype = 'float')\n",
    "\n",
    "images.shape, labels.shape"
   ]
  },
  {
   "attachments": {},
   "cell_type": "markdown",
   "metadata": {},
   "source": [
    "Preview random image"
   ]
  },
  {
   "cell_type": "code",
   "execution_count": 14,
   "metadata": {},
   "outputs": [
    {
     "data": {
      "image/png": "[encoded data removed]",
      "text/plain": [
       "<Figure size 432x288 with 1 Axes>"
      ]
     },
     "metadata": {
      "needs_background": "light"
     },
     "output_type": "display_data"
    }
   ],
   "source": [
    "sample_image_number = 1235\n",
    "plt.imshow(images[sample_image_number], cmap='gray')\n",
    "plt.scatter(labels[sample_image_number][0:30:2], labels[sample_image_number][1:30:2], marker='x', c = 'red')\n",
    "plt.show()"
   ]
  },
  {
   "attachments": {},
   "cell_type": "markdown",
   "metadata": {},
   "source": [
    "#### Model"
   ]
  },
  {
   "attachments": {},
   "cell_type": "markdown",
   "metadata": {},
   "source": [
    "Testset will be splitted into 3 groups: train, validate, test. The relative size of each group will be the following (train, validate, test) = (80%, 10%, 10%)"
   ]
  },
  {
   "cell_type": "code",
   "execution_count": 15,
   "metadata": {},
   "outputs": [
    {
     "name": "stdout",
     "output_type": "stream",
     "text": [
      "Shape of train dataset is ((5639, 96, 96, 1), (5639, 30)).\n",
      "Shape of validation dataset is ((705, 96, 96, 1), (705, 30)).\n",
      "Shape of test dataset is ((705, 96, 96, 1), (705, 30)).\n"
     ]
    }
   ],
   "source": [
    "X_train, X_val, y_train, y_val = train_test_split(images, labels, test_size=0.2, random_state=42)\n",
    "\n",
    "X_val, X_test, y_val, y_test = train_test_split(X_val, y_val, test_size=0.5, random_state=42)\n",
    "\n",
    "print('Shape of train dataset is ({}, {}).'.format(X_train.shape, y_train.shape))\n",
    "print('Shape of validation dataset is ({}, {}).'.format(X_val.shape, y_val.shape))\n",
    "print('Shape of test dataset is ({}, {}).'.format(X_test.shape, y_test.shape))\n"
   ]
  },
  {
   "attachments": {},
   "cell_type": "markdown",
   "metadata": {},
   "source": [
    "Hence this dataset is small (~10<sup>4</sup> inputs) this division will work fine."
   ]
  },
  {
   "attachments": {},
   "cell_type": "markdown",
   "metadata": {},
   "source": [
    "##### Neural Netowrk"
   ]
  },
  {
   "attachments": {},
   "cell_type": "markdown",
   "metadata": {},
   "source": [
    "Simple neural network model"
   ]
  },
  {
   "cell_type": "code",
   "execution_count": 16,
   "metadata": {},
   "outputs": [
    {
     "name": "stdout",
     "output_type": "stream",
     "text": [
      "Model: \"Deep Neural Network\"\n",
      "_________________________________________________________________\n",
      " Layer (type)                Output Shape              Param #   \n",
      "=================================================================\n",
      " flatten (Flatten)           (None, 9216)              0         \n",
      "                                                                 \n",
      " dense (Dense)               (None, 128)               1179776   \n",
      "                                                                 \n",
      " dense_1 (Dense)             (None, 128)               16512     \n",
      "                                                                 \n",
      " dense_2 (Dense)             (None, 64)                8256      \n",
      "                                                                 \n",
      " dense_3 (Dense)             (None, 30)                1950      \n",
      "                                                                 \n",
      "=================================================================\n",
      "Total params: 1,206,494\n",
      "Trainable params: 1,206,494\n",
      "Non-trainable params: 0\n",
      "_________________________________________________________________\n"
     ]
    }
   ],
   "source": [
    "model_nn = Sequential(name=\"Deep Neural Network\")\n",
    "model_nn.add(Flatten(input_shape=(96, 96, 1)))\n",
    "model_nn.add(Dense(128, activation='relu'))\n",
    "Dropout(0.5)\n",
    "model_nn.add(Dense(128, activation='relu'))\n",
    "Dropout(0.5)\n",
    "model_nn.add(Dense(64, activation='relu'))\n",
    "model_nn.add(Dense(30))\n",
    "\n",
    "model_nn.summary()"
   ]
  },
  {
   "cell_type": "code",
   "execution_count": 17,
   "metadata": {},
   "outputs": [
    {
     "name": "stdout",
     "output_type": "stream",
     "text": [
      "You must install pydot (`pip install pydot`) and install graphviz (see instructions at https://graphviz.gitlab.io/download/) for plot_model/model_to_dot to work.\n"
     ]
    }
   ],
   "source": [
    "plot_model(model_nn, to_file='Deep Neural Network.png', show_shapes=True)"
   ]
  },
  {
   "cell_type": "code",
   "execution_count": null,
   "metadata": {},
   "outputs": [],
   "source": [
    "model.compile(optimizer='Adam',  metrics=[RootMeanSquaredError(), 'accuracy'], loss='mae')"
   ]
  },
  {
   "cell_type": "code",
   "execution_count": null,
   "metadata": {},
   "outputs": [],
   "source": [
    "%%time\n",
    "history_nn = model.fit(images, labels, epochs=200, batch_size=32, shuffle=True, validation_split=0.2)"
   ]
  },
  {
   "cell_type": "code",
   "execution_count": null,
   "metadata": {},
   "outputs": [],
   "source": [
    "print(history_nn.history.keys())"
   ]
  },
  {
   "cell_type": "code",
   "execution_count": null,
   "metadata": {},
   "outputs": [],
   "source": [
    "\n",
    "plot_loss(history_nn.history,\"NN\",plt)\n"
   ]
  },
  {
   "attachments": {},
   "cell_type": "markdown",
   "metadata": {},
   "source": [
    "#### Convolution Neural Network"
   ]
  },
  {
   "cell_type": "code",
   "execution_count": null,
   "metadata": {},
   "outputs": [],
   "source": [
    "model = Sequential()\n",
    "\n",
    "model.add(Conv2D(128, kernel_size=(3, 3), input_shape=(img_height, img_width, 1),\n",
    "                activation='relu', padding='same'))\n",
    "model.add(BatchNormalization())\n",
    "model.add(MaxPool2D(pool_size=(2, 2)))\n",
    "\n",
    "model.add(Conv2D(128, kernel_size=(3, 3),activation='relu', padding='same'))\n",
    "model.add(BatchNormalization())\n",
    "model.add(MaxPool2D(pool_size=(2, 2)))\n",
    "\n",
    "model.add(Conv2D(64, kernel_size=(3, 3), activation='relu', padding='same'))\n",
    "model.add(BatchNormalization())\n",
    "model.add(MaxPool2D(pool_size=(2, 2)))\n",
    "\n",
    "model.add(Conv2D(32, kernel_size=(3, 3),activation='relu', padding='same'))\n",
    "model.add(BatchNormalization())\n",
    "model.add(MaxPool2D(pool_size=(2, 2)))\n",
    "\n",
    "model.add(Flatten())\n",
    "model.add(Dense(256,activation='relu'))\n",
    "model.add(Dropout(0.1))\n",
    "model.add(Dense(128,activation='relu'))\n",
    "model.add(Dropout(0.1))\n",
    "\n",
    "model.add(Dense(30))\n",
    "model.summary()"
   ]
  },
  {
   "attachments": {},
   "cell_type": "markdown",
   "metadata": {},
   "source": [
    "SOLUTION\n"
   ]
  },
  {
   "cell_type": "code",
   "execution_count": null,
   "metadata": {},
   "outputs": [],
   "source": [
    "train.fillna(method = 'ffill', inplace=True) # forward fill"
   ]
  },
  {
   "cell_type": "code",
   "execution_count": null,
   "metadata": {},
   "outputs": [],
   "source": [
    "m, n = train.shape\n",
    "m1, n1 = test.shape"
   ]
  },
  {
   "cell_type": "code",
   "execution_count": null,
   "metadata": {},
   "outputs": [],
   "source": [
    "train.isnull().sum().any()"
   ]
  },
  {
   "cell_type": "code",
   "execution_count": null,
   "metadata": {},
   "outputs": [],
   "source": [
    "img = []\n",
    "# Iterate over all the rows and split the individual entries of Image column\n",
    "# if there are any blank spaces i.e. null values in the pixels then simply replace it with 0\n",
    "for i in range(m):\n",
    "    face_pixel = np.array(train['Image'][i].split(' '), dtype='float')\n",
    "    face_pixel = np.reshape(face_pixel, (img_height,img_width,1))\n",
    "    face_pixel /=255\n",
    "    img.append(face_pixel)\n",
    "img = np.array(img)"
   ]
  },
  {
   "cell_type": "code",
   "execution_count": null,
   "metadata": {},
   "outputs": [],
   "source": [
    "X_train = img\n",
    "train.drop('Image', axis = 1, inplace=True)\n",
    "y_train = []\n",
    "\n",
    "for i in range(len(train)):\n",
    "    y = train.iloc[i,:].values\n",
    "    y_train.append(y)"
   ]
  },
  {
   "cell_type": "code",
   "execution_count": null,
   "metadata": {},
   "outputs": [],
   "source": [
    "y_train = np.array(y_train,dtype = 'float')"
   ]
  },
  {
   "cell_type": "code",
   "execution_count": null,
   "metadata": {},
   "outputs": [],
   "source": [
    "X_train.shape, y_train.shape"
   ]
  },
  {
   "cell_type": "code",
   "execution_count": null,
   "metadata": {},
   "outputs": [],
   "source": [
    "plt.imshow(X_train[1550])\n",
    "plt.show()"
   ]
  },
  {
   "cell_type": "code",
   "execution_count": null,
   "metadata": {},
   "outputs": [],
   "source": [
    "def image_with_keypoints(df, index):\n",
    "    image = plt.imshow(X_train[index],cmap='gray')\n",
    "    l = []\n",
    "    for i in range(1,31,2):\n",
    "        l.append(plt.plot(y_train[index][i-1], y_train[index][i], 'r*'))\n",
    "        \n",
    "    return image, l"
   ]
  },
  {
   "cell_type": "code",
   "execution_count": null,
   "metadata": {},
   "outputs": [],
   "source": [
    "fig = plt.figure(figsize=(8, 8))\n",
    "fig.subplots_adjust(left=0, right=1, bottom=0, top=1, hspace=0.05, wspace=0.05)\n",
    "\n",
    "for i in range(16):\n",
    "    ax = fig.add_subplot(4, 4, i + 1, xticks=[], yticks=[])\n",
    "    image_with_keypoints(X_train, i)\n",
    "\n",
    "plt.show()"
   ]
  },
  {
   "cell_type": "code",
   "execution_count": null,
   "metadata": {},
   "outputs": [],
   "source": [
    "import tensorflow as tf\n",
    "from tensorflow.keras import callbacks\n",
    "from tensorflow.keras.layers import Dense, Conv2D, Flatten, Dropout, MaxPool2D, BatchNormalization\n",
    "from tensorflow.keras.models import Sequential\n",
    "from tensorflow.keras.metrics import RootMeanSquaredError\n",
    "print(\"Successfully Imported\")"
   ]
  },
  {
   "cell_type": "code",
   "execution_count": null,
   "metadata": {},
   "outputs": [],
   "source": [
    "model = Sequential()\n",
    "model.add(Flatten(input_shape=(96, 96, 1)))\n",
    "model.add(Dense(128, activation='relu'))\n",
    "Dropout(0.5)\n",
    "model.add(Dense(128, activation='relu'))\n",
    "Dropout(0.5)\n",
    "model.add(Dense(64, activation='relu'))\n",
    "model.add(Dense(30))\n",
    "\n",
    "model.summary()"
   ]
  },
  {
   "cell_type": "code",
   "execution_count": null,
   "metadata": {},
   "outputs": [],
   "source": [
    "model.compile(optimizer='Adam',  metrics=[RootMeanSquaredError(), 'accuracy'], loss='mae')"
   ]
  },
  {
   "cell_type": "code",
   "execution_count": null,
   "metadata": {},
   "outputs": [],
   "source": []
  },
  {
   "cell_type": "code",
   "execution_count": null,
   "metadata": {},
   "outputs": [],
   "source": [
    "%%time\n",
    "history = model.fit(X_train,y_train,epochs = 2,validation_split = 0.2)"
   ]
  },
  {
   "cell_type": "code",
   "execution_count": null,
   "metadata": {},
   "outputs": [],
   "source": [
    "print(history.history.keys())"
   ]
  },
  {
   "cell_type": "code",
   "execution_count": null,
   "metadata": {},
   "outputs": [],
   "source": [
    "model = Sequential()\n",
    "\n",
    "model.add(Conv2D(128, kernel_size=(3, 3), input_shape=(img_height, img_width, 1),\n",
    "                activation='relu', padding='same'))\n",
    "model.add(BatchNormalization())\n",
    "model.add(MaxPool2D(pool_size=(2, 2)))\n",
    "\n",
    "model.add(Conv2D(128, kernel_size=(3, 3),activation='relu', padding='same'))\n",
    "model.add(BatchNormalization())\n",
    "model.add(MaxPool2D(pool_size=(2, 2)))\n",
    "\n",
    "model.add(Conv2D(64, kernel_size=(3, 3), activation='relu', padding='same'))\n",
    "model.add(BatchNormalization())\n",
    "model.add(MaxPool2D(pool_size=(2, 2)))\n",
    "\n",
    "model.add(Conv2D(32, kernel_size=(3, 3),activation='relu', padding='same'))\n",
    "model.add(BatchNormalization())\n",
    "model.add(MaxPool2D(pool_size=(2, 2)))\n",
    "\n",
    "model.add(Flatten())\n",
    "model.add(Dense(256,activation='relu'))\n",
    "model.add(Dropout(0.1))\n",
    "model.add(Dense(128,activation='relu'))\n",
    "model.add(Dropout(0.1))\n",
    "\n",
    "model.add(Dense(30))\n",
    "model.summary()"
   ]
  },
  {
   "cell_type": "code",
   "execution_count": null,
   "metadata": {},
   "outputs": [],
   "source": [
    "model.compile(optimizer='Adam',  metrics=[RootMeanSquaredError(), 'accuracy'], loss='mae')"
   ]
  },
  {
   "cell_type": "code",
   "execution_count": null,
   "metadata": {},
   "outputs": [],
   "source": [
    "%%time\n",
    "history = model.fit(X_train,y_train,epochs = 2, batch_size = 32,validation_split = 0.2)"
   ]
  },
  {
   "cell_type": "code",
   "execution_count": null,
   "metadata": {},
   "outputs": [],
   "source": [
    "print(history.history.keys())"
   ]
  },
  {
   "cell_type": "code",
   "execution_count": null,
   "metadata": {},
   "outputs": [],
   "source": [
    "def plot_loss(hist,name,plt):\n",
    "    '''\n",
    "    RMSE_TF: if True, then RMSE is plotted with original scale \n",
    "    '''\n",
    "    loss = hist['loss']\n",
    "    val_loss = hist['val_loss']\n",
    "    plt.plot(loss,\"--\",linewidth=3,label=\"train:\"+name)\n",
    "    plt.plot(val_loss,linewidth=3,label=\"val:\"+name)\n",
    "\n",
    "plot_loss(history.history,\"CNN\",plt)\n",
    "plt.legend()\n",
    "plt.grid()\n",
    "plt.yscale(\"log\")\n",
    "plt.xlabel(\"epoch\")\n",
    "plt.ylabel(\"log loss\")\n",
    "plt.show()"
   ]
  },
  {
   "cell_type": "code",
   "execution_count": null,
   "metadata": {},
   "outputs": [],
   "source": [
    "acc = history.history['accuracy']\n",
    "val_acc = history.history['val_accuracy']\n",
    "plt.plot(acc,\"--\",linewidth=3,label=\"train : CNN\")\n",
    "plt.plot(val_acc,linewidth=3,label=\"val : CNN\")\n",
    "plt.legend()\n",
    "plt.grid()\n",
    "plt.yscale(\"log\")\n",
    "plt.xlabel(\"epoch\")\n",
    "plt.ylabel(\"accuracy\")\n",
    "plt.show()"
   ]
  },
  {
   "cell_type": "code",
   "execution_count": null,
   "metadata": {},
   "outputs": [],
   "source": [
    "test_images = []\n",
    "for i in range(len(test)):\n",
    "    item = np.array(test['Image'][i].split(' '), dtype='float')\n",
    "    item = np.reshape(item, (img_height, img_width, 1))\n",
    "    item /= 255\n",
    "    test_images.append(item)\n",
    "    \n",
    "test_images = np.array(test_images, dtype='float')"
   ]
  },
  {
   "cell_type": "code",
   "execution_count": null,
   "metadata": {},
   "outputs": [],
   "source": [
    "plt.imshow(test_images[0].reshape(96, 96))\n",
    "plt.show()"
   ]
  },
  {
   "cell_type": "code",
   "execution_count": null,
   "metadata": {},
   "outputs": [],
   "source": [
    "predict = model.predict(test_images)"
   ]
  },
  {
   "cell_type": "code",
   "execution_count": null,
   "metadata": {},
   "outputs": [],
   "source": [
    "feature_names = list(IdLookupTable['FeatureName'])\n",
    "image_ids = list(IdLookupTable['ImageId']-1)\n",
    "row_ids = list(IdLookupTable['RowId'])\n",
    "\n",
    "feature_list = []\n",
    "for feature in feature_names:\n",
    "    feature_list.append(feature_names.index(feature))"
   ]
  },
  {
   "cell_type": "code",
   "execution_count": null,
   "metadata": {},
   "outputs": [],
   "source": [
    "predictions = []\n",
    "for x,y in zip(image_ids, feature_list):\n",
    "    predictions.append(predict[x][y])"
   ]
  },
  {
   "cell_type": "code",
   "execution_count": null,
   "metadata": {},
   "outputs": [],
   "source": [
    "row_ids = pd.Series(row_ids, name = 'RowId')\n",
    "locations = pd.Series(predictions, name = 'Location')\n",
    "locations = locations.clip(0.0,96.0)\n",
    "submission_result = pd.concat([row_ids,locations],axis = 1)\n",
    "submission_result.to_csv('submission.csv',index = False)"
   ]
  },
  {
   "cell_type": "code",
   "execution_count": null,
   "metadata": {},
   "outputs": [],
   "source": [
    "from keras.utils import plot_model\n",
    "plot_model(model, to_file='model.png')"
   ]
  },
  {
   "cell_type": "code",
   "execution_count": null,
   "metadata": {},
   "outputs": [],
   "source": []
  }
 ],
 "metadata": {
  "kernelspec": {
   "display_name": "Python 3",
   "language": "python",
   "name": "python3"
  },
  "language_info": {
   "codemirror_mode": {
    "name": "ipython",
    "version": 3
   },
   "file_extension": ".py",
   "mimetype": "text/x-python",
   "name": "python",
   "nbconvert_exporter": "python",
   "pygments_lexer": "ipython3",
   "version": "3.9.13"
  },
  "orig_nbformat": 4,
  "vscode": {
   "interpreter": {
    "hash": "cd557fede3e70fdbf7895762f380b32707b1a076a513c90e31be101de56372bb"
   }
  }
 },
 "nbformat": 4,
 "nbformat_minor": 2
}
